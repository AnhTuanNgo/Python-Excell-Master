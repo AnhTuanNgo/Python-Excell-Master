{
 "cells": [
  {
   "cell_type": "markdown",
   "id": "4f0beef1",
   "metadata": {},
   "source": [
    "## DataFrame and Series"
   ]
  },
  {
   "cell_type": "code",
   "execution_count": 1,
   "id": "6ec42fe1",
   "metadata": {},
   "outputs": [],
   "source": [
    "import pandas as pd"
   ]
  },
  {
   "cell_type": "code",
   "execution_count": null,
   "id": "a2bda5d4",
   "metadata": {
    "scrolled": false
   },
   "outputs": [],
   "source": [
    "path='C:\\\\Users\\\\Admin\\\\Dropbox\\\\PC\\Desktop\\\\Python for Excel\\\\python-for-excel-1st-edition\\\\python-for-excel-1st-edition\\\\xl\\\\course_participants.xlsx'\n",
    "pd.read_excel(path)\n",
    "\n"
   ]
  },
  {
   "cell_type": "code",
   "execution_count": null,
   "id": "64c212b1",
   "metadata": {
    "scrolled": true,
    "slideshow": {
     "slide_type": "-"
    }
   },
   "outputs": [],
   "source": [
    "data=[[\"Mark\", 55, \"Italy\", 4.5, \"Europe\"],\n",
    "        [\"John\", 33, \"USA\", 6.7, \"America\"],\n",
    "        [\"Tim\", 41, \"USA\", 3.9, \"America\"],\n",
    "        [\"Jenny\", 12, \"Germany\", 9.0,\"Europe\"],\n",
    "       [\"Smith\", 20, \"England\", 8.5,\"Europe\"]\n",
    "     ]\n",
    "# Khai báo dataFrame thủ công: dữ liệu, index, column,\n",
    "\n",
    "df=pd.DataFrame(data=data,\n",
    "               columns=['name','age','country','score','continent'],\n",
    "               index=[1001,1000,1002,1003,1004]\n",
    "                           \n",
    "              )\n",
    "df\n",
    "      \n",
    "     "
   ]
  },
  {
   "cell_type": "code",
   "execution_count": null,
   "id": "d926f256",
   "metadata": {
    "scrolled": false
   },
   "outputs": [],
   "source": [
    "df.info()"
   ]
  },
  {
   "cell_type": "markdown",
   "id": "314a8778",
   "metadata": {},
   "source": [
    "## Index"
   ]
  },
  {
   "cell_type": "code",
   "execution_count": null,
   "id": "037bf8e1",
   "metadata": {
    "scrolled": true
   },
   "outputs": [],
   "source": [
    "#Làm viêc ở cột index và đặt tên cho cột index\n",
    "df.index\n",
    "df.index.name='user_ID'\n",
    "df"
   ]
  },
  {
   "cell_type": "code",
   "execution_count": null,
   "id": "d04859a6",
   "metadata": {
    "scrolled": true
   },
   "outputs": [],
   "source": [
    "# Chuyển vị trí cột index vào khu vực columns bình thường\n",
    "# đẩy vị trí columns 'name' thế cột index--> giá trị index không thay đổi --> chỉ thay đổi vị trí địa lý\n",
    "df.reset_index().set_index('name')\n",
    "\n",
    "\n"
   ]
  },
  {
   "cell_type": "code",
   "execution_count": null,
   "id": "8faf6dd7",
   "metadata": {
    "scrolled": false
   },
   "outputs": [],
   "source": [
    "#Tạo lại Index đưa colums 'name'về lại dataframe,\n",
    "#Trả lại vị trí cột index\n",
    "#--> nếu thêm index 1 row mới thì toàn bộ row fill NaN\n",
    "#--> giá trị  list index mới  phần tử cũ thì sẽ load phần tử cũ\n",
    "#--> nếu ko có phần tử cũ sẽ bị loại bỏ\n",
    "df.reindex([1003,1001,1002,1000,1004])"
   ]
  },
  {
   "cell_type": "code",
   "execution_count": null,
   "id": "3f5f571c",
   "metadata": {
    "scrolled": true
   },
   "outputs": [],
   "source": [
    "df\n"
   ]
  },
  {
   "cell_type": "code",
   "execution_count": null,
   "id": "f59c24a8",
   "metadata": {
    "scrolled": false
   },
   "outputs": [],
   "source": [
    "#Ưu tiên sort theo tham số đứng sau : 'age'\n",
    "df.sort_values(['score','age'])"
   ]
  },
  {
   "cell_type": "markdown",
   "id": "72a90534",
   "metadata": {},
   "source": [
    "## COLUMNS"
   ]
  },
  {
   "cell_type": "code",
   "execution_count": null,
   "id": "8a3b2eaa",
   "metadata": {},
   "outputs": [],
   "source": [
    "df.index\n",
    "df"
   ]
  },
  {
   "cell_type": "code",
   "execution_count": 60,
   "id": "6096910c",
   "metadata": {},
   "outputs": [
    {
     "data": {
      "text/plain": [
       "Index(['name', 'age', 'country', 'score', 'continent'], dtype='object')"
      ]
     },
     "execution_count": 60,
     "metadata": {},
     "output_type": "execute_result"
    }
   ],
   "source": [
    "df.columns"
   ]
  },
  {
   "cell_type": "code",
   "execution_count": null,
   "id": "57024a1c",
   "metadata": {
    "scrolled": true
   },
   "outputs": [],
   "source": [
    "df.columns.name='properties'\n",
    "df"
   ]
  },
  {
   "cell_type": "code",
   "execution_count": null,
   "id": "e0554f16",
   "metadata": {
    "scrolled": true
   },
   "outputs": [],
   "source": [
    "# Đổi tên Columns bằng cách truyền  dic vào tham số thuộc tính columns của DF\n",
    "df.rename(columns={'name':'Name','age':'Age','country':'Country','score':'Score','continent':'Continent'})"
   ]
  },
  {
   "cell_type": "code",
   "execution_count": null,
   "id": "16f94487",
   "metadata": {
    "scrolled": true
   },
   "outputs": [],
   "source": [
    "#Xóa columns và xóa row theo index\n",
    "df.drop(columns=['name','age'],\n",
    "        index=[1000, 1003])"
   ]
  },
  {
   "cell_type": "code",
   "execution_count": null,
   "id": "fe8d69c4",
   "metadata": {
    "scrolled": true
   },
   "outputs": [],
   "source": [
    "#  Đổi hàng thành cột - cột thành hàng\n",
    "df.T\n",
    "# cách 2: \n",
    "df.transpose()"
   ]
  },
  {
   "cell_type": "code",
   "execution_count": null,
   "id": "878d1d84",
   "metadata": {
    "scrolled": true
   },
   "outputs": [],
   "source": [
    "df\n"
   ]
  },
  {
   "cell_type": "code",
   "execution_count": null,
   "id": "15f69df4",
   "metadata": {},
   "outputs": [],
   "source": [
    "df.loc[:,[\"continent\", \"country\", \"name\", \"age\", \"score\"]]"
   ]
  },
  {
   "cell_type": "markdown",
   "id": "d78d5b45",
   "metadata": {},
   "source": [
    "### DataFrame.loc ( lấy theo cột )--> name"
   ]
  },
  {
   "cell_type": "code",
   "execution_count": null,
   "id": "be5d598c",
   "metadata": {
    "scrolled": true
   },
   "outputs": [],
   "source": [
    "#df.loc[1001,[\"continent\"]] # Scalar:lấy 1 row theo 1 Columns and Index\n",
    "#df.loc[:,[\"continent\"]]# Lấy giá trị 1 cloumn (1 chiều) --> series\n",
    "#df.loc[:, \"continent\"]# Lấy giá trị 1 cloumn (2 chiều)--> kiểu dataframe\n",
    "#df.loc[:, [\"country\", \"age\"]]# Lấy giá trị 2 cột --> kiểu DataFrame\n",
    "#df.loc[1002:1004, \"name\":\"country\"]# lấy giá trị Dataframe theo khoảng theo Coloumns, [:,cloumns]là lấy toàn bộ indexx\n",
    "#df.loc[1000, :]#Lấy giá trị 1 row (1 chiều) --> series\n",
    "#df.loc[[1000], :]#Lấy giá trị 1 row (2 chiều) --> DataFrame\n",
    "#df.loc[[1003, 1000], :]#Lấy giá trị nhiều row theo index cho tất cả các columns --> DataFrame\n",
    "#df.loc[1000:1002, :]#Lấy giá trị Dataframe theo khoảng theo row, [:,cloumns]là lấy toàn bộ indexx"
   ]
  },
  {
   "cell_type": "code",
   "execution_count": null,
   "id": "f37519d8",
   "metadata": {
    "scrolled": true
   },
   "outputs": [],
   "source": [
    "#Lấy giá trị toàn bộ cột : 2 cách\n",
    "df['age']# cách 1\n",
    "df.loc[:,['age']]# cách 2"
   ]
  },
  {
   "cell_type": "markdown",
   "id": "b2042569",
   "metadata": {},
   "source": [
    "## DataFrame. iloc (lấy vị trí)--> giá index"
   ]
  },
  {
   "cell_type": "code",
   "execution_count": null,
   "id": "174daaed",
   "metadata": {
    "scrolled": true
   },
   "outputs": [],
   "source": [
    "df"
   ]
  },
  {
   "cell_type": "code",
   "execution_count": null,
   "id": "b06347c8",
   "metadata": {
    "scrolled": true
   },
   "outputs": [],
   "source": [
    "#Single value Scalar \n",
    "#df.iloc[1, 2]\n",
    "#One column (1d) Series \n",
    "df.iloc[:,2]\n",
    "#One column (2d) DataFrame \n",
    "#df.iloc[1:,[2]]\n",
    "#Multiple columns DataFrame \n",
    "#df.iloc[:,[1,3,4]]\n",
    "#Range of columns DataFrame \n",
    "#df.iloc[:,:3]\n",
    "#One row (1d) Series \n",
    "#df.iloc[1,:]\n",
    "#One row (2d) DataFrame \n",
    "#df.iloc[[1],:]\n",
    "#Multiple rows DataFrame \n",
    "#df.iloc[[1,3],[0,1]]\n",
    "#Range of rows DataFrame\n",
    "#df.iloc[0:5,:]"
   ]
  },
  {
   "cell_type": "markdown",
   "id": "11389d43",
   "metadata": {},
   "source": [
    "## Selecting by boolean indexing\n"
   ]
  },
  {
   "cell_type": "code",
   "execution_count": null,
   "id": "278e3060",
   "metadata": {
    "scrolled": true
   },
   "outputs": [],
   "source": [
    "# Tìm row giá trị trong 2 cột thỏa mãn điều kiện--> trả giá trị True/False ứng vớ index\n",
    "tf=(df['age']<40)&(df['continent']=='Europe')\n",
    "tf"
   ]
  },
  {
   "cell_type": "code",
   "execution_count": null,
   "id": "45deceee",
   "metadata": {
    "scrolled": true
   },
   "outputs": [],
   "source": [
    "# Lấy row có gí trị True\n",
    "df.loc[tf,:]"
   ]
  },
  {
   "cell_type": "code",
   "execution_count": null,
   "id": "752517d6",
   "metadata": {
    "scrolled": false
   },
   "outputs": [],
   "source": [
    "# lấy các row có index không phải bằng 1 giá trị cụ thể\n",
    "df.loc[df.index != 1001, :]\n"
   ]
  },
  {
   "cell_type": "code",
   "execution_count": null,
   "id": "502b8fc4",
   "metadata": {
    "scrolled": false
   },
   "outputs": [],
   "source": [
    "#Lấy trong columns cho các giá trị nếu nằm trong columns thì lấy hết toàn bộ row có chứ nó\n",
    "df.loc[df[\"country\"].isin([\"USA\", \"Germany\"]), :]"
   ]
  },
  {
   "cell_type": "markdown",
   "id": "6bc011a7",
   "metadata": {},
   "source": [
    "## DataFrame với Boolean"
   ]
  },
  {
   "cell_type": "code",
   "execution_count": null,
   "id": "7ed54583",
   "metadata": {
    "scrolled": true
   },
   "outputs": [],
   "source": [
    "cities=pd.DataFrame(data={'city1':[100,350,400,450],\n",
    "                          'city 2':[210,410,320,150],\n",
    "                          'city 3':[405,240,100,350]})\n",
    "cities"
   ]
  },
  {
   "cell_type": "code",
   "execution_count": null,
   "id": "67dc3dfe",
   "metadata": {
    "scrolled": false
   },
   "outputs": [],
   "source": [
    "#So sánh DF với 1 điều kiện\n",
    "#Trả giá trị True mỗi phần tử thỏa điền kiện/ False nếu không thỏa mãn\n",
    "cities <350"
   ]
  },
  {
   "cell_type": "code",
   "execution_count": null,
   "id": "bb23dd55",
   "metadata": {
    "scrolled": true
   },
   "outputs": [],
   "source": [
    "# Điền giá trị NaN vào vị trí True \n",
    "cities[cities<350]"
   ]
  },
  {
   "cell_type": "markdown",
   "id": "0b12c28a",
   "metadata": {},
   "source": [
    "## Chọn dữ liệu với  MultiIndex\n",
    "\n",
    "### A MultiIndex needs to be sorted\n"
   ]
  },
  {
   "cell_type": "code",
   "execution_count": null,
   "id": "023affd8",
   "metadata": {
    "scrolled": true
   },
   "outputs": [],
   "source": [
    "# Đặt lại Index df_multi là columns continent và country\n",
    "df_multi=df.reset_index().set_index(['continent','country'])\n",
    "\n",
    "df_multi"
   ]
  },
  {
   "cell_type": "code",
   "execution_count": null,
   "id": "09e656d5",
   "metadata": {
    "scrolled": true
   },
   "outputs": [],
   "source": [
    "# sort theo index gián trị tăng dần theo index_name continent\n",
    "df_multi=df_multi.sort_index()\n",
    "df_multi"
   ]
  },
  {
   "cell_type": "code",
   "execution_count": null,
   "id": "6f76256e",
   "metadata": {
    "scrolled": true
   },
   "outputs": [],
   "source": [
    " # Lấy giá trị multiIndex với Index_name 'continent'\n",
    "\n",
    "df_multi.loc[['America'],:]"
   ]
  },
  {
   "cell_type": "code",
   "execution_count": null,
   "id": "1cfac504",
   "metadata": {},
   "outputs": [],
   "source": []
  }
 ],
 "metadata": {
  "kernelspec": {
   "display_name": "Python 3 (ipykernel)",
   "language": "python",
   "name": "python3"
  },
  "language_info": {
   "codemirror_mode": {
    "name": "ipython",
    "version": 3
   },
   "file_extension": ".py",
   "mimetype": "text/x-python",
   "name": "python",
   "nbconvert_exporter": "python",
   "pygments_lexer": "ipython3",
   "version": "3.9.12"
  }
 },
 "nbformat": 4,
 "nbformat_minor": 5
}

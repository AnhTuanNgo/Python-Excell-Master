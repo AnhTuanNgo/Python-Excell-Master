{
 "cells": [
  {
   "cell_type": "code",
   "execution_count": 1,
   "id": "5b0c9e1b",
   "metadata": {},
   "outputs": [],
   "source": [
    "import pandas as pd\n",
    "import xlwings as xw\n",
    "import numpy as np"
   ]
  },
  {
   "cell_type": "code",
   "execution_count": null,
   "id": "ea5f7eb7",
   "metadata": {
    "scrolled": true
   },
   "outputs": [],
   "source": [
    "df=pd.DataFrame(data=np.random.rand(100,5),#tao mang ngau nhien tu 0->1 kieu float\n",
    "               columns=[f'trial {i}' for i in range(5)])# dat ten hang loat cho cot\n",
    "df\n"
   ]
  },
  {
   "cell_type": "code",
   "execution_count": 7,
   "id": "343e4ee4",
   "metadata": {},
   "outputs": [],
   "source": [
    "# xem data tren excel\n",
    "xw.view(df)"
   ]
  },
  {
   "cell_type": "code",
   "execution_count": 19,
   "id": "5ae8feba",
   "metadata": {
    "scrolled": true
   },
   "outputs": [],
   "source": [
    "#Create a new empty workbook and print its name.\n",
    "wb=xw.Book()\n",
    "\n"
   ]
  },
  {
   "cell_type": "code",
   "execution_count": 12,
   "id": "31497f32",
   "metadata": {
    "scrolled": true
   },
   "outputs": [
    {
     "data": {
      "text/plain": [
       "'Book1'"
      ]
     },
     "execution_count": 12,
     "metadata": {},
     "output_type": "execute_result"
    }
   ],
   "source": [
    "#This is thebook we will use to run most of the code samples in this chapter\n",
    "wb.name"
   ]
  },
  {
   "cell_type": "code",
   "execution_count": 20,
   "id": "d37a0728",
   "metadata": {},
   "outputs": [
    {
     "data": {
      "text/plain": [
       "Sheets([<Sheet [Book1]Sheet1>])"
      ]
     },
     "execution_count": 20,
     "metadata": {},
     "output_type": "execute_result"
    }
   ],
   "source": [
    "# Accessing the sheets collection\n",
    "wb.sheets\n"
   ]
  },
  {
   "cell_type": "code",
   "execution_count": 21,
   "id": "a97b261a",
   "metadata": {},
   "outputs": [],
   "source": [
    "# Get a sheet object by index or name. You will need to adjust\n",
    "# \"Sheet1\" if your sheet is called differently.\n",
    "sheet1=wb.sheets[0]"
   ]
  },
  {
   "cell_type": "code",
   "execution_count": 22,
   "id": "61f548a2",
   "metadata": {
    "scrolled": true
   },
   "outputs": [
    {
     "data": {
      "text/plain": [
       "<Range [Book1]Sheet1!$A$1>"
      ]
     },
     "execution_count": 22,
     "metadata": {},
     "output_type": "execute_result"
    }
   ],
   "source": [
    "# Seletion Cell 'A1'\n",
    "sheet1.range('A1')"
   ]
  },
  {
   "cell_type": "code",
   "execution_count": 24,
   "id": "c1919156",
   "metadata": {},
   "outputs": [],
   "source": [
    "# Add valve begin 'A1'\n",
    "sheet1.range('A1').valuve =[[1,2,3],\n",
    "                            [4,5,6]]"
   ]
  },
  {
   "cell_type": "code",
   "execution_count": null,
   "id": "eabfe19f",
   "metadata": {},
   "outputs": [],
   "source": []
  }
 ],
 "metadata": {
  "kernelspec": {
   "display_name": "Python 3 (ipykernel)",
   "language": "python",
   "name": "python3"
  },
  "language_info": {
   "codemirror_mode": {
    "name": "ipython",
    "version": 3
   },
   "file_extension": ".py",
   "mimetype": "text/x-python",
   "name": "python",
   "nbconvert_exporter": "python",
   "pygments_lexer": "ipython3",
   "version": "3.9.12"
  }
 },
 "nbformat": 4,
 "nbformat_minor": 5
}
